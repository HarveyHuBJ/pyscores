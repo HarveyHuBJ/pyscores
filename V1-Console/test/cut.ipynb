{
 "cells": [
  {
   "cell_type": "code",
   "execution_count": 5,
   "metadata": {},
   "outputs": [
    {
     "name": "stdout",
     "output_type": "stream",
     "text": [
      "[50, 60, 99, 90]\n",
      "['E', 'E', 'A', 'B']\n",
      "Categories (5, object): ['E' < 'D' < 'C' < 'B' < 'A']\n"
     ]
    }
   ],
   "source": [
    "\n",
    "\n",
    "# 测试pandas的cut()函数\n",
    "\n",
    "import pandas as pd\n",
    "import numpy as np\n",
    "\n",
    "# 生成一个分数等级，用A, B, C, D, E表示\n",
    "score = [50,60,99,90]\n",
    "print(score)\n",
    "\n",
    "bins = [0, 60, 70, 80, 90, 100]\n",
    "labels = ['E', 'D', 'C', 'B', 'A']\n",
    "score_cut = pd.cut(score, bins, labels=labels, right=True)\n",
    "\n",
    "print(score_cut)\n",
    " "
   ]
  }
 ],
 "metadata": {
  "kernelspec": {
   "display_name": "Python 3",
   "language": "python",
   "name": "python3"
  },
  "language_info": {
   "codemirror_mode": {
    "name": "ipython",
    "version": 3
   },
   "file_extension": ".py",
   "mimetype": "text/x-python",
   "name": "python",
   "nbconvert_exporter": "python",
   "pygments_lexer": "ipython3",
   "version": "3.10.11"
  }
 },
 "nbformat": 4,
 "nbformat_minor": 2
}
